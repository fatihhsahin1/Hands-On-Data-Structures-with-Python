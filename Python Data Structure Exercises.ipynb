{
 "cells": [
  {
   "cell_type": "markdown",
   "id": "d8e97c90",
   "metadata": {},
   "source": [
    "# Exercise 1: Create a list by picking an odd-index items from the first list and even index items from the second\n"
   ]
  },
  {
   "cell_type": "markdown",
   "id": "4a0a5017",
   "metadata": {},
   "source": [
    "Given two lists, l1 and l2, write a program to create a third list l3 by picking an odd-index element from the list l1 and even index elements from the list l2.\n",
    "\n",
    "Given:\n",
    "\n",
    "l1 = [3, 6, 9, 12, 15, 18, 21]\n",
    "\n",
    "l2 = [4, 8, 12, 16, 20, 24, 28]"
   ]
  },
  {
   "cell_type": "markdown",
   "id": "ba6b5006",
   "metadata": {},
   "source": [
    "Solution:"
   ]
  },
  {
   "cell_type": "code",
   "execution_count": 19,
   "id": "12c501e3",
   "metadata": {},
   "outputs": [
    {
     "name": "stdout",
     "output_type": "stream",
     "text": [
      "[6, 12, 18, 4, 12, 20, 28]\n"
     ]
    }
   ],
   "source": [
    "l1 = [3, 6, 9, 12, 15, 18, 21]\n",
    "l2 = [4, 8, 12, 16, 20, 24, 28]\n",
    "\n",
    "l1_o=odd_elements=l1[1::2]\n",
    "l2_e=even_elements=l2[0::2]\n",
    "l3=l1_o+l2_e\n",
    "print(l3)"
   ]
  },
  {
   "cell_type": "markdown",
   "id": "4df7e65a",
   "metadata": {},
   "source": [
    "# Exercise 2: Remove and add item in a list\n",
    "\n",
    "Write a program to remove the item present at index 4 and add it to the 2nd position and at the end of the list.\n",
    "\n",
    "Given:\n",
    "\n",
    "list1 = [54, 44, 27, 79, 91, 41]"
   ]
  },
  {
   "cell_type": "markdown",
   "id": "fd02d33d",
   "metadata": {},
   "source": [
    "Solution:"
   ]
  },
  {
   "cell_type": "code",
   "execution_count": 27,
   "id": "d347ca51",
   "metadata": {},
   "outputs": [
    {
     "name": "stdout",
     "output_type": "stream",
     "text": [
      "[54, 44, 91, 27, 79, 41, 91]\n"
     ]
    }
   ],
   "source": [
    "sample_list1 = [54, 44, 27, 79, 91, 41]\n",
    "removed_index=sample_list1.pop(4)\n",
    "sample_list1.insert(2,removed_index)\n",
    "sample_list1.append(removed_index)\n",
    "print(sample_list1)"
   ]
  },
  {
   "cell_type": "markdown",
   "id": "0a520726",
   "metadata": {},
   "source": [
    "# Exercise 3: Slice list into 3 equal chunks and reverse each chunk\n",
    "\n",
    "Given:\n",
    "\n",
    "sample_list = [11, 45, 8, 23, 14, 12, 78, 45, 89]"
   ]
  },
  {
   "cell_type": "markdown",
   "id": "142ea590",
   "metadata": {},
   "source": [
    "Solution:"
   ]
  },
  {
   "cell_type": "code",
   "execution_count": 56,
   "id": "20621742",
   "metadata": {},
   "outputs": [
    {
     "name": "stdout",
     "output_type": "stream",
     "text": [
      "chunk 1: [11, 45, 8]\n",
      "reversed_chunk1: [8, 45, 11]\n",
      "chunk 2: [23, 14, 12]\n",
      "reversed_chunk2: [12, 14, 23]\n",
      "chunk 3: [78, 45, 89]\n",
      "reversed_chunk3: [89, 45, 78]\n"
     ]
    }
   ],
   "source": [
    "sample_list1 = [11, 45, 8, 23, 14, 12, 78, 45, 89]\n",
    "chunk1=sample_list1[0:3]\n",
    "reversed_chunk1=list(reversed(chunk1))\n",
    "chunk2=sample_list1[3:6]\n",
    "reversed_chunk2=list(reversed(chunk2))\n",
    "chunk3=sample_list1[6 :]\n",
    "reversed_chunk3=list(reversed(chunk3))\n",
    "\n",
    "print(\"chunk 1:\", chunk1)\n",
    "print(\"reversed_chunk1:\",reversed_chunk1)\n",
    "print(\"chunk 2:\",chunk2)\n",
    "print(\"reversed_chunk2:\",reversed_chunk2)\n",
    "print(\"chunk 3:\",chunk3)\n",
    "print(\"reversed_chunk3:\",reversed_chunk3)"
   ]
  },
  {
   "cell_type": "markdown",
   "id": "12053b48",
   "metadata": {},
   "source": [
    "OR:"
   ]
  },
  {
   "cell_type": "code",
   "execution_count": 57,
   "id": "68fa7575",
   "metadata": {},
   "outputs": [
    {
     "name": "stdout",
     "output_type": "stream",
     "text": [
      "Original list  [11, 45, 8, 23, 14, 12, 78, 45, 89]\n",
      "Chunk  0 [11, 45, 8]\n",
      "After reversing it  [8, 45, 11]\n",
      "Chunk  1 [23, 14, 12]\n",
      "After reversing it  [12, 14, 23]\n",
      "Chunk  2 [78, 45, 89]\n",
      "After reversing it  [89, 45, 78]\n"
     ]
    }
   ],
   "source": [
    "sample_list = [11, 45, 8, 23, 14, 12, 78, 45, 89]\n",
    "print(\"Original list \", sample_list)\n",
    "\n",
    "length = len(sample_list)\n",
    "chunk_size = int(length / 3)\n",
    "start = 0\n",
    "end = chunk_size\n",
    "\n",
    "# run loop 3 times\n",
    "for i in range(3):\n",
    "    # get indexes\n",
    "    indexes = slice(start, end)\n",
    "    \n",
    "    # get chunk\n",
    "    list_chunk = sample_list[indexes]\n",
    "    print(\"Chunk \", i, list_chunk)\n",
    "    \n",
    "    # reverse chunk\n",
    "    print(\"After reversing it \", list(reversed(list_chunk)))\n",
    "\n",
    "    start = end\n",
    "    end += chunk_size\n"
   ]
  },
  {
   "cell_type": "markdown",
   "id": "3faff60d",
   "metadata": {},
   "source": [
    "# Exercise 4: Count the occurrence of each element from a list\n",
    "\n",
    "Write a program to iterate a given list and count the occurrence of each element and create a dictionary to show the count of each element.\n",
    "]\n",
    "Given:\n",
    "\n",
    "sample_list = [11, 45, 8, 11, 23, 45, 23, 45, 89]"
   ]
  },
  {
   "cell_type": "markdown",
   "id": "a5e9268a",
   "metadata": {},
   "source": [
    "Solution:"
   ]
  },
  {
   "cell_type": "code",
   "execution_count": 60,
   "id": "f82a43ba",
   "metadata": {},
   "outputs": [
    {
     "name": "stdout",
     "output_type": "stream",
     "text": [
      "{11: 2, 45: 3, 8: 1, 23: 2, 89: 1}\n"
     ]
    }
   ],
   "source": [
    "sample_list2 = [11, 45, 8, 11, 23, 45, 23, 45, 89]\n",
    "count_dict = {}\n",
    "\n",
    "for element in sample_list2:\n",
    "    if element in count_dict:\n",
    "        count_dict[element] += 1\n",
    "    else:\n",
    "        count_dict[element] = 1\n",
    "\n",
    "print(count_dict)\n"
   ]
  },
  {
   "cell_type": "markdown",
   "id": "fd7af5a2",
   "metadata": {},
   "source": [
    "# Exercise 5: Create a Python set such that it shows the element from both lists in a pair\n",
    "\n",
    "Given:\n",
    "\n",
    "first_list = [2, 3, 4, 5, 6, 7, 8]\n",
    "second_list = [4, 9, 16, 25, 36, 49, 64]"
   ]
  },
  {
   "cell_type": "markdown",
   "id": "03347f98",
   "metadata": {},
   "source": [
    "Expected Output:\n",
    "\n",
    "Result is  {(6, 36), (8, 64), (4, 16), (5, 25), (3, 9), (7, 49), (2, 4)}"
   ]
  },
  {
   "cell_type": "markdown",
   "id": "724562fb",
   "metadata": {},
   "source": [
    "Solution:"
   ]
  },
  {
   "cell_type": "code",
   "execution_count": 11,
   "id": "fbd6df54",
   "metadata": {},
   "outputs": [
    {
     "name": "stdout",
     "output_type": "stream",
     "text": [
      "{(7, 49), (2, 4), (4, 16), (8, 64), (6, 36), (3, 9), (5, 25)}\n"
     ]
    }
   ],
   "source": [
    "first_list = [2, 3, 4, 5, 6, 7, 8]\n",
    "second_list = [4, 9, 16, 25, 36, 49, 64]\n",
    "result=zip(first_list,second_list)\n",
    "result_set=set(result)\n",
    "print(result_set)   "
   ]
  },
  {
   "cell_type": "markdown",
   "id": "d7e3b79b",
   "metadata": {},
   "source": [
    "# Exercise 6: Find the intersection (common) of two sets and remove those elements from the first set"
   ]
  },
  {
   "cell_type": "markdown",
   "id": "2e7f5af6",
   "metadata": {},
   "source": [
    "first_set = {23, 42, 65, 57, 78, 83, 29}\n",
    "\n",
    "second_set = {57, 83, 29, 67, 73, 43, 48}"
   ]
  },
  {
   "cell_type": "code",
   "execution_count": 28,
   "id": "2b9fa2dd",
   "metadata": {},
   "outputs": [
    {
     "name": "stdout",
     "output_type": "stream",
     "text": [
      "common elements: {57, 83, 29}\n",
      "First Set after removing common elements  {65, 23, 42, 78}\n"
     ]
    }
   ],
   "source": [
    "first_set = {23, 42, 65, 57, 78, 83, 29}\n",
    "second_set = {57, 83, 29, 67, 73, 43, 48}\n",
    "common_elem=second_set.intersection(first_set)\n",
    "print(\"common elements:\", common_elem)\n",
    "for item in common_elem:\n",
    "    first_set.remove(item)\n",
    "print(\"First Set after removing common elements \", first_set)"
   ]
  },
  {
   "cell_type": "markdown",
   "id": "7f4d5fe9",
   "metadata": {},
   "source": [
    "# Exercise 7: Checks if one set is a subset or superset of another set. If found, delete all elements from that set"
   ]
  },
  {
   "cell_type": "code",
   "execution_count": 37,
   "id": "951e5298",
   "metadata": {},
   "outputs": [
    {
     "name": "stdout",
     "output_type": "stream",
     "text": [
      "First set is subset of second set True\n",
      "Second set is subset of first set False\n",
      "First set is superset of second set False\n",
      "Second set is super set of first set True\n",
      "First set: set()\n",
      "Second set: {48, 34, 53, 22, 27, 43, 93}\n"
     ]
    }
   ],
   "source": [
    "first_set = {27, 43, 34}\n",
    "second_set = {34, 93, 22, 27, 43, 53, 48}\n",
    "\n",
    "print(\"First set is subset of second set\",first_set.issubset(second_set))\n",
    "print(\"Second set is subset of first set\",second_set.issubset(first_set))\n",
    "print(\"First set is superset of second set\",first_set.issuperset(second_set))\n",
    "print(\"Second set is super set of first set\",second_set.issuperset(first_set))\n",
    "\n",
    "if first_set.issubset(second_set):\n",
    "    first_set.clear()\n",
    "else:\n",
    "    second_set.clear()\n",
    "\n",
    "print(\"First set:\",first_set)\n",
    "print(\"Second set:\",second_set)\n",
    "\n"
   ]
  },
  {
   "cell_type": "markdown",
   "id": "49b2ccc9",
   "metadata": {},
   "source": [
    "# Exercise 8: Iterate a given list and check if a given element exists as a key’s value in a dictionary. If not, delete it from the list"
   ]
  },
  {
   "cell_type": "markdown",
   "id": "60948739",
   "metadata": {},
   "source": [
    "roll_number = [47, 64, 69, 37, 76, 83, 95, 97]\n",
    "\n",
    "sample_dict = {'Jhon':47, 'Emma':69, 'Kelly':76, 'Jason':97}\n",
    "\n",
    "After removing unwanted elements from list [47, 69, 76, 97]\n"
   ]
  },
  {
   "cell_type": "code",
   "execution_count": 80,
   "id": "a87d84da",
   "metadata": {},
   "outputs": [
    {
     "name": "stdout",
     "output_type": "stream",
     "text": [
      "after removing unwanted elements from list: [47, 69, 76, 97]\n"
     ]
    }
   ],
   "source": [
    "roll_number = [47, 64, 69, 37, 76, 83, 95, 97]\n",
    "\n",
    "sample_dict = {'Jhon':47, 'Emma':69, 'Kelly':76, 'Jason':97}\n",
    "\n",
    "roll_number[:] = [item for item in roll_number if item in sample_dict.values()]\n",
    "print(\"after removing unwanted elements from list:\", roll_number)\n"
   ]
  },
  {
   "cell_type": "markdown",
   "id": "a076ade2",
   "metadata": {},
   "source": [
    "# Exercise 9: Get all values from the dictionary and add them to a list but don’t add duplicates"
   ]
  },
  {
   "cell_type": "code",
   "execution_count": 87,
   "id": "8b0c951e",
   "metadata": {},
   "outputs": [
    {
     "name": "stdout",
     "output_type": "stream",
     "text": [
      "Dictionary's values -  dict_values([47, 52, 47, 44, 52, 53, 54, 44, 54])\n",
      "unique list [47, 52, 44, 53, 54]\n"
     ]
    }
   ],
   "source": [
    "speed = {'jan': 47, 'feb': 52, 'march': 47, 'April': 44, 'May': 52, 'June': 53, 'july': 54, 'Aug': 44, 'Sept': 54}\n",
    "\n",
    "print(\"Dictionary's values - \", speed.values())\n",
    "\n",
    "speed_list = list()\n",
    "\n",
    "# iterate dict values\n",
    "for val in speed.values():\n",
    "    # check if value not present in a list\n",
    "    if val not in speed_list:\n",
    "        speed_list.append(val)\n",
    "print(\"unique list\", speed_list)\n",
    "\n",
    "\n",
    "\n",
    "\n",
    "\n"
   ]
  },
  {
   "cell_type": "markdown",
   "id": "a4e740b0",
   "metadata": {},
   "source": [
    "# Exercise 10: Remove duplicates from a list and create a tuple and find the minimum and maximum number"
   ]
  },
  {
   "cell_type": "markdown",
   "id": "b91d9272",
   "metadata": {},
   "source": [
    "Given:\n",
    "\n",
    "sample_list = [87, 45, 41, 65, 94, 41, 99, 94]"
   ]
  },
  {
   "cell_type": "code",
   "execution_count": 101,
   "id": "9c309d79",
   "metadata": {},
   "outputs": [
    {
     "name": "stdout",
     "output_type": "stream",
     "text": [
      "unique list [44, 52, 53, 54, 87]\n"
     ]
    },
    {
     "ename": "TypeError",
     "evalue": "'tuple' object is not callable",
     "output_type": "error",
     "traceback": [
      "\u001b[0;31m---------------------------------------------------------------------------\u001b[0m",
      "\u001b[0;31mTypeError\u001b[0m                                 Traceback (most recent call last)",
      "\u001b[0;32m/var/folders/4t/npl722f96sd9gcy3gsnj6gqm0000gp/T/ipykernel_3076/1529545259.py\u001b[0m in \u001b[0;36m<module>\u001b[0;34m\u001b[0m\n\u001b[1;32m      4\u001b[0m \u001b[0mprint\u001b[0m\u001b[0;34m(\u001b[0m\u001b[0;34m\"unique list\"\u001b[0m\u001b[0;34m,\u001b[0m \u001b[0mUnique_list\u001b[0m\u001b[0;34m)\u001b[0m\u001b[0;34m\u001b[0m\u001b[0;34m\u001b[0m\u001b[0m\n\u001b[1;32m      5\u001b[0m \u001b[0;34m\u001b[0m\u001b[0m\n\u001b[0;32m----> 6\u001b[0;31m \u001b[0mt\u001b[0m \u001b[0;34m=\u001b[0m \u001b[0mtuple\u001b[0m\u001b[0;34m(\u001b[0m\u001b[0mUnique_list\u001b[0m\u001b[0;34m)\u001b[0m\u001b[0;34m\u001b[0m\u001b[0;34m\u001b[0m\u001b[0m\n\u001b[0m\u001b[1;32m      7\u001b[0m \u001b[0mprint\u001b[0m\u001b[0;34m(\u001b[0m\u001b[0;34m\"tuple \"\u001b[0m\u001b[0;34m,\u001b[0m \u001b[0mt\u001b[0m\u001b[0;34m)\u001b[0m\u001b[0;34m\u001b[0m\u001b[0;34m\u001b[0m\u001b[0m\n\u001b[1;32m      8\u001b[0m \u001b[0;34m\u001b[0m\u001b[0m\n",
      "\u001b[0;31mTypeError\u001b[0m: 'tuple' object is not callable"
     ]
    }
   ],
   "source": [
    "sample_list4 = [87, 52, 44, 53, 54, 87, 52, 53]\n",
    "\n",
    "Unique_list = list(set(sample_list4))\n",
    "print(\"unique list\", Unique_list)\n",
    "\n",
    "t = tuple(Unique_list)\n",
    "print(\"tuple \", t)\n",
    "\n",
    "print(\"Minimum number is: \", min(t))\n",
    "print(\"Maximum number is: \", max(t))"
   ]
  },
  {
   "cell_type": "code",
   "execution_count": null,
   "id": "cd3b1105",
   "metadata": {},
   "outputs": [],
   "source": []
  }
 ],
 "metadata": {
  "kernelspec": {
   "display_name": "Python 3 (ipykernel)",
   "language": "python",
   "name": "python3"
  },
  "language_info": {
   "codemirror_mode": {
    "name": "ipython",
    "version": 3
   },
   "file_extension": ".py",
   "mimetype": "text/x-python",
   "name": "python",
   "nbconvert_exporter": "python",
   "pygments_lexer": "ipython3",
   "version": "3.9.13"
  }
 },
 "nbformat": 4,
 "nbformat_minor": 5
}
